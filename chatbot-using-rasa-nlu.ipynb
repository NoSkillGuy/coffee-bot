{
 "cells": [
  {
   "cell_type": "markdown",
   "metadata": {},
   "source": [
    "# Building a chat bot without 3rd party libraries\n",
    "\n",
    "### Task\n",
    "\n",
    "To build a narrow domain chatbot without using any 3rd party APIs which functions as a coffee sales executive at starbucks.\n",
    "\n",
    "### About the demo\n",
    "\n",
    "This demo uses the [rasa_nlu](https://github.com/RasaHQ/rasa_nlu) library (with spacy as backend) for the bot. I did try a few other ways to implement a chatbot, but nothing worked as well as this did.\n",
    "\n",
    "### Rasa NLU\n",
    "\n",
    "Rasa NLU (Natural Language Understanding) is a tool for intent classification and entity extraction. You can think of Rasa NLU as a set of high level APIs for building your own language parser using existing NLP and ML libraries.\n",
    "\n",
    "### Training data\n",
    "\n",
    "The training data is stored in \"coffee-training-data.json\" by myself. This have very few queries and needs to be much more diverse range of human queries. \n",
    "\n",
    "### Status of project\n",
    "\n",
    "This is still a basic implementation with every little training data. This bot can be improved by: (i) giving more training data, (ii) writing advanced functions to handle the results from rasa_nlu."
   ]
  },
  {
   "cell_type": "markdown",
   "metadata": {},
   "source": [
    "## Importing required functions from Rasa NLU"
   ]
  },
  {
   "cell_type": "code",
   "execution_count": 1,
   "metadata": {
    "collapsed": true
   },
   "outputs": [],
   "source": [
    "from rasa_nlu.converters import load_data\n",
    "from rasa_nlu.config import RasaNLUConfig\n",
    "from rasa_nlu.model import Trainer"
   ]
  },
  {
   "cell_type": "markdown",
   "metadata": {},
   "source": [
    "## Training using the data from \"coffee-training-data.json\""
   ]
  },
  {
   "cell_type": "code",
   "execution_count": 2,
   "metadata": {
    "collapsed": false
   },
   "outputs": [
    {
     "name": "stdout",
     "output_type": "stream",
     "text": [
      "Fitting 2 folds for each of 6 candidates, totalling 12 fits\n"
     ]
    },
    {
     "name": "stderr",
     "output_type": "stream",
     "text": [
      "[Parallel(n_jobs=1)]: Done  12 out of  12 | elapsed:    0.1s finished\n"
     ]
    }
   ],
   "source": [
    "training_data = load_data('rasa_nlu/coffee-training-data.json')\n",
    "trainer = Trainer(RasaNLUConfig(\"rasa_nlu/config_spacy.json\"))\n",
    "trainer.train(training_data)\n",
    "model_directory = trainer.persist('./models/')  # Returns the directory the model is stored in"
   ]
  },
  {
   "cell_type": "markdown",
   "metadata": {},
   "source": [
    "## Loading the model so that it can be used"
   ]
  },
  {
   "cell_type": "code",
   "execution_count": 3,
   "metadata": {
    "collapsed": false
   },
   "outputs": [],
   "source": [
    "from rasa_nlu.model import Metadata, Interpreter\n",
    "\n",
    "metadata = Metadata.load(model_directory)   # where model_directory points to the folder the model is persisted in\n",
    "interpreter = Interpreter.load(metadata, RasaNLUConfig(\"rasa_nlu/config_spacy.json\"))"
   ]
  },
  {
   "cell_type": "markdown",
   "metadata": {},
   "source": [
    "## Seeing sample response of model for given input"
   ]
  },
  {
   "cell_type": "code",
   "execution_count": 4,
   "metadata": {
    "collapsed": false
   },
   "outputs": [
    {
     "name": "stdout",
     "output_type": "stream",
     "text": [
      "{u'entities': [{u'start': 13, u'extractor': u'ner_crf', u'end': 18, u'value': u'latte', u'entity': 'item'}], u'intent': {u'confidence': 0.53606092844861997, u'name': u'order_details'}, u'text': u'Can I have a latte?', u'intent_ranking': [{u'confidence': 0.53606092844861997, u'name': u'order_details'}, {u'confidence': 0.27618444869366371, u'name': u'goodbye'}, {u'confidence': 0.1321524262437597, u'name': u'greet'}, {u'confidence': 0.055602196613956677, u'name': u'affirm'}]}\n"
     ]
    }
   ],
   "source": [
    "k = interpreter.parse(u\"Can I have a latte?\")\n",
    "print(k)"
   ]
  },
  {
   "cell_type": "markdown",
   "metadata": {},
   "source": [
    "## Understanding what the user is saying"
   ]
  },
  {
   "cell_type": "code",
   "execution_count": 5,
   "metadata": {
    "collapsed": false
   },
   "outputs": [
    {
     "name": "stdout",
     "output_type": "stream",
     "text": [
      "*User says:* Can I have a latte?\n",
      "When some says the above, here's the understanding of the bot.\n",
      "  The user's intent is: order_details with a confidence of 0.536060928449, and he's trying to order a latte\n"
     ]
    }
   ],
   "source": [
    "print(\"*User says:* \" + k['text'])\n",
    "print(\"When some says the above, here's the understanding of the bot.\")\n",
    "print(\"  \" + \"The user's intent is: \" + k['intent']['name'] + \" with a confidence of \" + str(k['intent']['confidence']) \\\n",
    "      + \", and he's trying to order a \" + k['entities'][0]['value'])"
   ]
  },
  {
   "cell_type": "markdown",
   "metadata": {},
   "source": [
    "## Building the function for responding to a query"
   ]
  },
  {
   "cell_type": "code",
   "execution_count": 6,
   "metadata": {
    "collapsed": false
   },
   "outputs": [],
   "source": [
    "def coffee_bot(string):\n",
    "    \n",
    "    # Printing user's query\n",
    "    print(\"Me: \" + string)\n",
    "    \n",
    "    # Storing the dict response form the bot\n",
    "    bot_response = interpreter.parse(string.decode('utf-8') )\n",
    "    \n",
    "    # Finding user's intent\n",
    "    user_intent = bot_response['intent']['name']\n",
    "    \n",
    "    # Response of bot based on intent of user\n",
    "    if(user_intent == u'greet'):\n",
    "        print(\"Alex: Hi! I hope you're having a good day, what do you to have today?\")\n",
    "    elif(user_intent == u'order_details'):\n",
    "        order_item = k['entities'][0]['value']\n",
    "        print(\"Alex: Thank you for ordering a \" + order_item + \". It will be delivered in a few minutes.\")\n",
    "    elif(user_intent == u'goodbye'):\n",
    "        print(\"Alex: It was nice talking to you, have a nice day! Goodbye.\")\n",
    "    \n",
    "    return "
   ]
  },
  {
   "cell_type": "markdown",
   "metadata": {},
   "source": [
    "## DEMO: Talking to the bot"
   ]
  },
  {
   "cell_type": "code",
   "execution_count": 7,
   "metadata": {
    "collapsed": false
   },
   "outputs": [
    {
     "name": "stdout",
     "output_type": "stream",
     "text": [
      "Me: Hello!\n",
      "Alex: Hi! I hope you're having a good day, what do you to have today?\n",
      "Me: Can I have a latte?\n",
      "Alex: Thank you for ordering a latte. It will be delivered in a few minutes.\n",
      "Me: Bye\n",
      "Alex: It was nice talking to you, have a nice day! Goodbye.\n"
     ]
    }
   ],
   "source": [
    "coffee_bot(\"Hello!\")\n",
    "coffee_bot(\"Can I have a latte?\")\n",
    "coffee_bot(\"Bye.\")"
   ]
  },
  {
   "cell_type": "code",
   "execution_count": 10,
   "metadata": {
    "collapsed": false
   },
   "outputs": [
    {
     "name": "stdout",
     "output_type": "stream",
     "text": [
      "Me: Yo!\n",
      "Alex: Hi! I hope you're having a good day, what do you to have today?\n",
      "Me: I need an latte.\n",
      "Alex: Thank you for ordering a latte. It will be delivered in a few minutes.\n",
      "Me: Bye.\n",
      "Alex: Hi! I hope you're having a good day, what do you to have today?\n"
     ]
    }
   ],
   "source": [
    "coffee_bot(\"Yo!\")\n",
    "coffee_bot(\"I need an latte.\")\n",
    "coffee_bot(\"Bye.\")"
   ]
  }
 ],
 "metadata": {
  "kernelspec": {
   "display_name": "Python 2",
   "language": "python",
   "name": "python2"
  },
  "language_info": {
   "codemirror_mode": {
    "name": "ipython",
    "version": 2
   },
   "file_extension": ".py",
   "mimetype": "text/x-python",
   "name": "python",
   "nbconvert_exporter": "python",
   "pygments_lexer": "ipython2",
   "version": "2.7.13"
  }
 },
 "nbformat": 4,
 "nbformat_minor": 2
}
